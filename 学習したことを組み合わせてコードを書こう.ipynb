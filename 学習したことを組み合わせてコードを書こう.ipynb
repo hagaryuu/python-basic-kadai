{
  "nbformat": 4,
  "nbformat_minor": 0,
  "metadata": {
    "colab": {
      "provenance": [],
      "authorship_tag": "ABX9TyMTzWNMY6m15QLbHWE5dfWA",
      "include_colab_link": true
    },
    "kernelspec": {
      "name": "python3",
      "display_name": "Python 3"
    },
    "language_info": {
      "name": "python"
    }
  },
  "cells": [
    {
      "cell_type": "markdown",
      "metadata": {
        "id": "view-in-github",
        "colab_type": "text"
      },
      "source": [
        "<a href=\"https://colab.research.google.com/github/hagaryuu/python-basic-kadai/blob/main/%E5%AD%A6%E7%BF%92%E3%81%97%E3%81%9F%E3%81%93%E3%81%A8%E3%82%92%E7%B5%84%E3%81%BF%E5%90%88%E3%82%8F%E3%81%9B%E3%81%A6%E3%82%B3%E3%83%BC%E3%83%89%E3%82%92%E6%9B%B8%E3%81%93%E3%81%86.ipynb\" target=\"_parent\"><img src=\"https://colab.research.google.com/assets/colab-badge.svg\" alt=\"Open In Colab\"/></a>"
      ]
    },
    {
      "cell_type": "code",
      "execution_count": null,
      "metadata": {
        "id": "N9nbeH1TdFYR",
        "colab": {
          "base_uri": "https://localhost:8080/"
        },
        "outputId": "65c2b0ba-228d-4513-d654-96f12b8832b1"
      },
      "outputs": [
        {
          "output_type": "stream",
          "name": "stdout",
          "text": [
            "侍太郎は大人です\n",
            "侍太郎は大人です\n",
            "侍太郎は大人です\n"
          ]
        }
      ],
      "source": [
        "class Human:\n",
        "   def __init__(self,name,age):\n",
        "      self.name = name\n",
        "      self.age = age\n",
        "   def check_adult(self):\n",
        "      if self.age >= 20:\n",
        "        print(f\"{self.name}は大人です\")\n",
        "      else:\n",
        "        print(f\"{self.name}は大人ではありません\")\n",
        "\n",
        "human1 = Human(\"侍太郎\",36)\n",
        "humans = [Human(\"侍太郎\",36),Human(\"侍太郎\",36),Human(\"侍太郎\",36)]\n",
        "\n",
        "for person in humans:\n",
        "    person.check_adult()\n"
      ]
    },
    {
      "cell_type": "code",
      "source": [],
      "metadata": {
        "id": "PFX2YVFWXxBv",
        "outputId": "b3361ba4-a98a-4503-8973-d6d71b698492",
        "colab": {
          "base_uri": "https://localhost:8080/",
          "height": 106
        }
      },
      "execution_count": null,
      "outputs": [
        {
          "output_type": "error",
          "ename": "SyntaxError",
          "evalue": "invalid syntax (<ipython-input-19-132c3a2c014c>, line 1)",
          "traceback": [
            "\u001b[0;36m  File \u001b[0;32m\"<ipython-input-19-132c3a2c014c>\"\u001b[0;36m, line \u001b[0;32m1\u001b[0m\n\u001b[0;31m    .age = age\u001b[0m\n\u001b[0m    ^\u001b[0m\n\u001b[0;31mSyntaxError\u001b[0m\u001b[0;31m:\u001b[0m invalid syntax\n"
          ]
        }
      ]
    },
    {
      "cell_type": "code",
      "source": [],
      "metadata": {
        "id": "_q8O3SzoZg5Q"
      },
      "execution_count": null,
      "outputs": []
    },
    {
      "cell_type": "code",
      "source": [],
      "metadata": {
        "id": "jN6eOZYvZg6b"
      },
      "execution_count": null,
      "outputs": []
    }
  ]
}