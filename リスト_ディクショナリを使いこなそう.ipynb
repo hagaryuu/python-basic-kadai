{
  "nbformat": 4,
  "nbformat_minor": 0,
  "metadata": {
    "colab": {
      "provenance": [],
      "authorship_tag": "ABX9TyMpH192c87OS3IH3Gk/yHkw",
      "include_colab_link": true
    },
    "kernelspec": {
      "name": "python3",
      "display_name": "Python 3"
    },
    "language_info": {
      "name": "python"
    }
  },
  "cells": [
    {
      "cell_type": "markdown",
      "metadata": {
        "id": "view-in-github",
        "colab_type": "text"
      },
      "source": [
        "<a href=\"https://colab.research.google.com/github/hagaryuu/python-basic-kadai/blob/main/%E3%83%AA%E3%82%B9%E3%83%88_%E3%83%87%E3%82%A3%E3%82%AF%E3%82%B7%E3%83%A7%E3%83%8A%E3%83%AA%E3%82%92%E4%BD%BF%E3%81%84%E3%81%93%E3%81%AA%E3%81%9D%E3%81%86.ipynb\" target=\"_parent\"><img src=\"https://colab.research.google.com/assets/colab-badge.svg\" alt=\"Open In Colab\"/></a>"
      ]
    },
    {
      "cell_type": "code",
      "execution_count": null,
      "metadata": {
        "id": "ColfadD5zz7C",
        "colab": {
          "base_uri": "https://localhost:8080/"
        },
        "outputId": "4ab63d9b-a20d-4925-c72a-386097a83494"
      },
      "outputs": [
        {
          "output_type": "stream",
          "name": "stdout",
          "text": [
            " 水曜日は晴れです \n"
          ]
        }
      ],
      "source": [
        "arry = [\" 月曜日は晴れです \",\"火曜日は雨です \",\" 水曜日は晴れです \",\" 木曜日は晴れです \",\" 金曜日は曇りです \",\" 土曜日は曇りのち雨です \",\" 日曜日は雷雨です\"]\n",
        "print(arry[2])\n",
        "\n"
      ]
    },
    {
      "cell_type": "code",
      "source": [
        "dictionary = {\"mon\":\"晴れ\",\"tue\":\"雨\",\"wed\":\"晴れ\",\"thu\":\"晴れ \",\"fri\":\"曇り\",\"sat\":\"曇りのち雨 \",\"sun\":\"雷雨\"}\n",
        "print(dictionary[\"wed\"])"
      ],
      "metadata": {
        "id": "ZFs428Xt9IbW",
        "colab": {
          "base_uri": "https://localhost:8080/"
        },
        "outputId": "9371139e-c55d-4671-a1aa-2bb21acdf47c"
      },
      "execution_count": null,
      "outputs": [
        {
          "output_type": "stream",
          "name": "stdout",
          "text": [
            "晴れ\n"
          ]
        }
      ]
    },
    {
      "cell_type": "code",
      "source": [],
      "metadata": {
        "id": "r-G2JvwZHLhQ"
      },
      "execution_count": null,
      "outputs": []
    }
  ]
}