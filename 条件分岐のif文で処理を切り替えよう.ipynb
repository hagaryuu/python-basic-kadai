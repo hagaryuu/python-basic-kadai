{
  "nbformat": 4,
  "nbformat_minor": 0,
  "metadata": {
    "colab": {
      "provenance": [],
      "toc_visible": true,
      "authorship_tag": "ABX9TyPLN2JWu1DTeWfnEgDIfIkA",
      "include_colab_link": true
    },
    "kernelspec": {
      "name": "python3",
      "display_name": "Python 3"
    },
    "language_info": {
      "name": "python"
    }
  },
  "cells": [
    {
      "cell_type": "markdown",
      "metadata": {
        "id": "view-in-github",
        "colab_type": "text"
      },
      "source": [
        "<a href=\"https://colab.research.google.com/github/hagaryuu/python-basic-kadai/blob/main/%E6%9D%A1%E4%BB%B6%E5%88%86%E5%B2%90%E3%81%AEif%E6%96%87%E3%81%A7%E5%87%A6%E7%90%86%E3%82%92%E5%88%87%E3%82%8A%E6%9B%BF%E3%81%88%E3%82%88%E3%81%86.ipynb\" target=\"_parent\"><img src=\"https://colab.research.google.com/assets/colab-badge.svg\" alt=\"Open In Colab\"/></a>"
      ]
    },
    {
      "cell_type": "code",
      "execution_count": 3,
      "metadata": {
        "id": "BZGkuO3X-oFc",
        "colab": {
          "base_uri": "https://localhost:8080/"
        },
        "outputId": "53b291ce-2b3b-4ddb-a549-05046019f8b7"
      },
      "outputs": [
        {
          "output_type": "stream",
          "name": "stdout",
          "text": [
            "FizzBuzz\n"
          ]
        }
      ],
      "source": [
        "var = 15\n",
        "if var % 3 == 0 and var % 5 == 0:\n",
        "   print(\"FizzBuzz\")\n",
        "elif var % 5 == 0:\n",
        "   print(\"Buzz\")\n",
        "elif var % 3 == 0:\n",
        "   print(\"Fizz\")\n",
        "else:\n",
        "   print(var)"
      ]
    },
    {
      "cell_type": "code",
      "source": [],
      "metadata": {
        "id": "9ghyhsy59U8I"
      },
      "execution_count": null,
      "outputs": []
    }
  ]
}